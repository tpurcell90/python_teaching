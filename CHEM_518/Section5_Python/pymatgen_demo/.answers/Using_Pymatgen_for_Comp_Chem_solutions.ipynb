{
 "cells": [
  {
   "cell_type": "markdown",
   "id": "37bca2c3-2666-4bca-b763-667048ee3d4a",
   "metadata": {},
   "source": [
    "We now move on from using Python to do basic tasks, to see how these tools can make running and analyzing computational chemistry calculations easier!\n",
    "\n",
    "To do this we will be using pymatgen to read Gaussian Output files and setup new calculations!"
   ]
  },
  {
   "cell_type": "code",
   "execution_count": null,
   "id": "7deab1bf-b4f5-4f33-9d2c-7a3cd5b14fbb",
   "metadata": {},
   "outputs": [],
   "source": [
    "from pymatgen.io.gaussian import GaussianInput, GaussianOutput\n",
    "from pymatgen.core.structure import Molecule\n",
    "\n",
    "import numpy as np\n",
    "import matplotlib.pyplot as plt"
   ]
  },
  {
   "cell_type": "markdown",
   "id": "a79376fd-1fd7-45df-a25b-d6fd19aac86b",
   "metadata": {},
   "source": [
    "To start our analysis let's turn to the dithiophene example from Section 2 where the initial relaxation led to a saddle point instead of a global minimum. And see what type of results we can get"
   ]
  },
  {
   "cell_type": "code",
   "execution_count": null,
   "id": "313142b4-f30e-4868-ab8d-44fe74670759",
   "metadata": {},
   "outputs": [],
   "source": [
    "dithiophne_ouput = GaussianOutput(f\"dithiophene.log\")\n",
    "\n",
    "print(\"properly_terminated\")\n",
    "print(dithiophne_ouput.properly_terminated, \"\\n\")\n",
    "\n",
    "print(\"stationary_type\")\n",
    "print(dithiophne_ouput.stationary_type, \"\\n\")\n",
    "\n",
    "print(\"1st vibrational frequency\")\n",
    "print(dithiophne_ouput.frequencies[0][0], \"\\n\")\n",
    "\n",
    "print(\"energies\")\n",
    "print(dithiophne_ouput.energies, \"\\n\")\n",
    "\n",
    "print(\"eigenvalues\")\n",
    "print(dithiophne_ouput.eigenvalues, \"\\n\")\n",
    "\n",
    "print(\"Mulliken_charges\")\n",
    "print(dithiophne_ouput.Mulliken_charges, \"\\n\")"
   ]
  },
  {
   "cell_type": "markdown",
   "id": "ff0bcc6d-e88a-44d9-868a-08937e57d7a6",
   "metadata": {},
   "source": [
    "While this is a subset of different infromation we can get out the output files, the thing that stands out right away is that we can immediately see that the calculation did not reach a global minimum, but a saddle point. \n",
    "\n",
    "To see all possible outputs accessible with Outputs object refer the API: https://pymatgen.org/pymatgen.io.html#pymatgen.io.gaussian.GaussianOutput\n",
    "\n",
    "Looking at this first vibrational mode we see a new data type for python indicated by {}. This is  a dictionary in python and it allows us to map one object to another in a  {key: value} manner, where value can be anything and the key is normally a string or numeric value. As an example lets make a new dictionary dct."
   ]
  },
  {
   "cell_type": "code",
   "execution_count": null,
   "id": "ef1e5c4d-2b09-45ea-b5cb-4e7780980361",
   "metadata": {},
   "outputs": [],
   "source": [
    "dct = {1: \"hi\", \"a\": True, \"c\": np.arange(10)}\n",
    "print(dct[1])\n",
    "print(dct[\"a\"])\n",
    "print(dct[\"c\"])\n"
   ]
  },
  {
   "cell_type": "markdown",
   "id": "e877e55e-680c-4d20-ace3-dd44a78c9e39",
   "metadata": {},
   "source": [
    "We can now use this vibrational mode information to distort the structure like we did in Gaussian, but through the python interface with less time."
   ]
  },
  {
   "cell_type": "code",
   "execution_count": null,
   "id": "1fec9fbc-41cc-4bc6-9f8a-d0e3c9afc86f",
   "metadata": {},
   "outputs": [],
   "source": [
    "# Get the final structure\n",
    "dithiophene = dithiophne_ouput.final_structure\n",
    "\n",
    "# Get the normal mode of interest (first vibrational mode) and make it a [N x 3] matrix instead of a [N * 3] list\n",
    "mode = np.array(dithiophne_ouput.frequencies[0][0][\"mode\"]).reshape((-1, 3))\n",
    "\n",
    "# Get the displaced Coordinates\n",
    "coords = dithiophene.cart_coords\n",
    "coords += mode\n",
    "\n",
    "# Create a new Molecuel with the updated coordinates\n",
    "displaced_dithiophene = Molecule(\n",
    "    species=dithiophene.species,\n",
    "    coords=coords,\n",
    "    charge=dithiophene.charge,\n",
    "    spin_multiplicity=dithiophene.spin_multiplicity,\n",
    ")\n",
    "\n",
    "# Create the updated relaxation input file\n",
    "file_prefix = \"dithiophene_disp\"\n",
    "inputs = GaussianInput(\n",
    "    displaced_dithiophene,\n",
    "    title=file_prefix,\n",
    "    functional=dithiophne_ouput.functional,\n",
    "    basis_set=dithiophne_ouput.basis_set,\n",
    "    dieze_tag = \"#\",\n",
    "    route_parameters = {\"opt\": None, \"freq\": None},\n",
    "    link0_parameters = dithiophne_ouput.link0,\n",
    ")\n",
    "\n",
    "# Write the input file\n",
    "inputs.write_file(f\"{file_prefix}.gjf\")"
   ]
  },
  {
   "cell_type": "markdown",
   "id": "f4fb5c0e-dbe6-441f-9673-4ba744ce5c55",
   "metadata": {},
   "source": [
    "We see that the initial input line is split up into 4 parts: basis_set, functional, dieze_tag, and route_parameters, with all preamble portions set in link0_parameters (see below). The `dieze_tag` is used to set the output level for (#P: verbose, #N: Normal, #T: Terse) and must be one of these or just \"#\" For normal. `basis_set` and `functional` are converted into the \"{basis_set}/{functional}\" framework of Gaussian, and `route_parameters` is all other keywords specified as a dictionary. When we just need a keyword flag like `opt` and `freq` the value for the dict should be `None`. In python `None` is an object that encapsulates the concept of nothing.\n",
    "\n",
    "We can now see what the file will look like by printing the inputs object. In this case the coordinates are using interal coordinates, we can fix this using `cart_coords=True` in the `write_file` function."
   ]
  },
  {
   "cell_type": "code",
   "execution_count": null,
   "id": "eca27a67-a27d-41e7-9b2f-d04800708bbb",
   "metadata": {},
   "outputs": [],
   "source": [
    "print(inputs.link0_parameters)\n",
    "print(inputs)\n",
    "inputs.write_file(f\"{file_prefix}.gjf\", cart_coords=True)"
   ]
  },
  {
   "cell_type": "markdown",
   "id": "9c45644e-5aa0-4bc5-9925-153da7d3bde2",
   "metadata": {},
   "source": [
    "We now need to run the calculation from python using a subprocess call. While it is possible to do this in python, it is easier to run this by hand for now.\n",
    "\n",
    "Once done let's look at the outputs, in particular if we are at a minimum or not."
   ]
  },
  {
   "cell_type": "markdown",
   "id": "f56dc2bd-0a74-4d84-b9d8-9b79e87d2d35",
   "metadata": {},
   "source": [
    "**Problem 1**\n",
    "\n",
    "Load the output file into python and determine if the calculation is at a minimum."
   ]
  },
  {
   "cell_type": "code",
   "execution_count": null,
   "id": "dcc770a3-17f2-40bd-8b17-64a9947de76f",
   "metadata": {},
   "outputs": [],
   "source": [
    "# Your code goes here\n",
    "output_displaced = GaussianOutput(f\"{file_prefix}.log\")\n",
    "print(f\"properly_terminated: {output_displaced.properly_terminated}\")\n",
    "print(f\"stationary_type: {output_displaced.stationary_type}\")"
   ]
  },
  {
   "cell_type": "markdown",
   "id": "e4a0f3b7-468a-41e0-b194-59b3f647685e",
   "metadata": {},
   "source": [
    "Now that we know our structure is fully relaxed, we can plot the relaxation trajectory of the structure.\n",
    "\n",
    "**Problem 2**\n",
    "\n",
    "Plot the total energy of each step of the relaxation for the displaced relaxation structure"
   ]
  },
  {
   "cell_type": "code",
   "execution_count": null,
   "id": "2a29a3c7-3ede-43b3-98fa-3654cac76cc1",
   "metadata": {},
   "outputs": [],
   "source": [
    "# Your code here\n",
    "# len() gives the length (size) of a list/array\n",
    "plt.plot(np.arange(1, len(output_displaced.energies) + 1), output_displaced.energies)\n",
    "plt.show()"
   ]
  },
  {
   "cell_type": "markdown",
   "id": "7716dca0-2bb5-4d83-9283-f043d1565103",
   "metadata": {},
   "source": [
    "Note for the solution how matplot lib automatically sets the scale to be shifted down by 1.1406e3 Ha. this is to highlight the minute differences between the the starting and final geometry of the structure."
   ]
  },
  {
   "cell_type": "markdown",
   "id": "4ba54788-1494-4f45-acad-d100c6b60eee",
   "metadata": {},
   "source": [
    "Now that we know we are at a mininum let's plot the IR-spectra of dithiophene. To do this we will use the stick spectra generated from Gaussian and artficially broaden it with a 50 cm$^{-1}$ Lorentzian to mimic gas phase molecular spectroscopy.\n",
    "\n",
    "Reminder the Lorentzian is:\n",
    "\n",
    "$f\\left(x\\right)=\\frac{1}{\\pi} \\frac{\\frac{1}{2} \\Gamma}{\\left(x-x_0\\right)^2 + \\left(\\frac{1}{2} \\Gamma\\right)^2}$"
   ]
  },
  {
   "cell_type": "code",
   "execution_count": null,
   "id": "36746d60-d1b1-40a5-bd99-c0463d41a317",
   "metadata": {},
   "outputs": [],
   "source": [
    "def lorentzian(x, x0, Gamma):\n",
    "    \"\"\"Calculate the probability distribution function (PDF) for a Lorentzian for a given set of x-points\n",
    "\n",
    "    Args:\n",
    "        x (np.array[float]): The set of x-points to get the PDF for\n",
    "        x0 (float): The peak location\n",
    "        Gamma (float): The width of the peak\n",
    "\n",
    "    Returns:\n",
    "        np.array[float]: The values of the PDF for the specified gaussian\n",
    "    \"\"\"\n",
    "    return 0.5 * Gamma / (np.pi * ((x - x0)**2.0 + (0.5 * Gamma)**2.0))\n",
    "\n",
    "wavenumbers = np.arange(450, 4250.01, 0.1)\n",
    "ir = np.zeros(wavenumbers.shape)\n",
    "\n",
    "# Here is a for loop this is a structre that will loop over a series of values and do an action on that\n",
    "for vib in output_displaced.frequencies[0]:\n",
    "    ir += lorentzian(wavenumbers, vib[\"frequency\"], 50.0) * vib[\"IR_intensity\"]\n",
    "\n",
    "plt.plot(wavenumbers, ir)\n",
    "plt.xlabel(\"Wavenumber (cm$^{-1}$)\")\n",
    "plt.ylabel(\"I. R. Absorption (A. U.)\")\n",
    "plt.show()"
   ]
  },
  {
   "cell_type": "markdown",
   "id": "49b08f06-3cc2-43e6-a107-15de5a10afce",
   "metadata": {},
   "source": [
    "In the above code, we encountered our first for loop. This is a contruction in coding that allows us to loop over a series of values (the vibrational frequencies in this case) and do the same operation on that data. Let's play around with them as an aside."
   ]
  },
  {
   "cell_type": "code",
   "execution_count": null,
   "id": "1a66afc4-525d-4d15-865c-e211740a49fb",
   "metadata": {},
   "outputs": [],
   "source": [
    "# Looping over a list\n",
    "lst = [1, \"a\", 12.3]\n",
    "for el in lst:\n",
    "    print(el)"
   ]
  },
  {
   "cell_type": "markdown",
   "id": "c88909d8-c38b-4a72-a7cb-98ce766dce20",
   "metadata": {},
   "source": [
    "We can also loop over a range of numbers to do some consistent numerical operation on them. Note what `x += y` is doing here as a shorthand for `x = x + y`"
   ]
  },
  {
   "cell_type": "code",
   "execution_count": null,
   "id": "3c4e0daf-1099-402b-8859-8781b5a0cf26",
   "metadata": {},
   "outputs": [],
   "source": [
    "# Looping over an implicit value with the range function\n",
    "sum_explicit = 0\n",
    "sum_implicit = 0\n",
    "for num in range(1, 10):\n",
    "    sum_explicit = sum_explicit + num\n",
    "    sum_implicit += num\n",
    "print(f\"The sum of all numbers from 1 to 9 is {sum_explicit}\")\n",
    "print(f\"The sum of all numbers from 1 to 9 is {sum_implicit}\")"
   ]
  },
  {
   "cell_type": "markdown",
   "id": "e8570171-c6af-447e-97bd-24a5d243379c",
   "metadata": {},
   "source": [
    "If we want to acces both an index number and an element of a list we can use `enumerate`"
   ]
  },
  {
   "cell_type": "code",
   "execution_count": null,
   "id": "4e9418c2-142b-4fe2-9dfb-ee68e6bf86b0",
   "metadata": {},
   "outputs": [],
   "source": [
    "# Looping over an index and element using enumerate\n",
    "for ind, el in enumerate(lst):\n",
    "    print(f\"The {ind + 1}th element of lst is {el}\")"
   ]
  },
  {
   "cell_type": "markdown",
   "id": "cbf115ba-c9b4-442e-be71-6d5fe15f6b06",
   "metadata": {},
   "source": [
    "Finally we can loop over multiple lists using the zip command"
   ]
  },
  {
   "cell_type": "code",
   "execution_count": null,
   "id": "8caf2993-b0c9-4d25-95b1-5d4e2dc4d03c",
   "metadata": {},
   "outputs": [],
   "source": [
    "ordinal = [\"1st\", \"2nd\", \"3rd\"]\n",
    "for ind, el in zip(ordinal, lst):\n",
    "    print(f\"The {ind} element of lst is {el}\")"
   ]
  },
  {
   "cell_type": "markdown",
   "id": "e42e4237-2928-4905-a401-5ddbaedf16e7",
   "metadata": {},
   "source": [
    "But if the lists are not the same size, it will stop at whatever value is smaller"
   ]
  },
  {
   "cell_type": "code",
   "execution_count": null,
   "id": "11ced2e9-5f0e-4eb6-acd1-b8d37f3df8e8",
   "metadata": {},
   "outputs": [],
   "source": [
    "ordinal = [\"1st\", \"2nd\", \"3rd\", \"4th\"]\n",
    "for ind, el in zip(ordinal, lst):\n",
    "    print(f\"The {ind} element of lst is {el}\")\n",
    "\n",
    "print()\n",
    "\n",
    "ordinal = [\"1st\", \"2nd\"]\n",
    "for ind, el in zip(ordinal, lst):\n",
    "    print(f\"The {ind} element of lst is {el}\")"
   ]
  },
  {
   "cell_type": "markdown",
   "id": "f37cc05b-9f59-471a-8ddf-c4c3874efcae",
   "metadata": {},
   "source": [
    "With the relaxed structure we can now calculate the absorption sepctra of dithiophene\n",
    "\n",
    "**Problem 3**\n",
    "\n",
    "Use the final structure and same level of theory to do a TD-DFT cacluation and retrieve the outputs"
   ]
  },
  {
   "cell_type": "code",
   "execution_count": null,
   "id": "371b0c26-582a-4386-90e1-3b825f4de282",
   "metadata": {},
   "outputs": [],
   "source": [
    "# Your code goes here\n",
    "file_prefix = \"dithiophene_tddft\"\n",
    "inputs_td = GaussianInput(\n",
    "    output_displaced.final_structure,\n",
    "    title=file_prefix,\n",
    "    functional=output_displaced.functional,\n",
    "    basis_set=output_displaced.basis_set,\n",
    "    dieze_tag=\"#\",\n",
    "    route_parameters = {\"td\": \"(singlets, nstates=5)\"},\n",
    "    link0_parameters = dithiophne_ouput.link0,\n",
    ")\n",
    "\n",
    "filename = f\"{file_prefix}.gjf\"\n",
    "inputs_td.write_file(filename)"
   ]
  },
  {
   "cell_type": "markdown",
   "id": "b602567e-14ac-45ab-be06-f0d399ac7d56",
   "metadata": {},
   "source": [
    "Run the calculation on the cluster and load the ouputs"
   ]
  },
  {
   "cell_type": "code",
   "execution_count": null,
   "id": "bfb2ee72-d39c-4d51-b165-2d698594237c",
   "metadata": {},
   "outputs": [],
   "source": [
    "outputs_td = GaussianOutput(f\"{file_prefix}.log\")"
   ]
  },
  {
   "cell_type": "markdown",
   "id": "3fcb7fdf-fde5-476f-867a-3c97caae0d4b",
   "metadata": {},
   "source": [
    "We can now read the absorption spectra using the outputs `read_excitation_energies` function\n",
    "\n",
    "This will output all transitions in the format of (energy, wavelength, oscillator strength) of the transistion. Each of these charecteristics are listed out in the form of a tuple (https://realpython.com/python-lists-tuples/#python-tuples), which is like a list but immutable. An immutable object is one that can not be changed once created "
   ]
  },
  {
   "cell_type": "code",
   "execution_count": null,
   "id": "76694add-5c60-4d7a-a6d1-33af5c6eb48a",
   "metadata": {},
   "outputs": [],
   "source": [
    "transitions = outputs_td.read_excitation_energies()\n",
    "\n",
    "print(transitions)"
   ]
  },
  {
   "cell_type": "markdown",
   "id": "48573a4d-ef1b-406f-85bd-f69ae837feab",
   "metadata": {},
   "source": [
    "We can see that each element in the tuple can't be changed as this will through an error"
   ]
  },
  {
   "cell_type": "code",
   "execution_count": null,
   "id": "c04b6949-20bf-415b-989b-36b3a342c261",
   "metadata": {},
   "outputs": [],
   "source": [
    "transitions[0][0] = 1"
   ]
  },
  {
   "cell_type": "markdown",
   "id": "45c36a02-f876-4fa5-b38b-ba17ff74803a",
   "metadata": {},
   "source": [
    "**Problem 4**\n",
    "\n",
    "Plot the absorption spectra of dithiophene using a peak width of 0.25."
   ]
  },
  {
   "cell_type": "code",
   "execution_count": null,
   "id": "29663179-55a4-460a-b8b4-4fab6d021fc7",
   "metadata": {},
   "outputs": [],
   "source": [
    "import numpy as np\n",
    "import matplotlib.pyplot as plt\n",
    "\n",
    "c = 299792458.0\n",
    "h = 4.135667696e-15\n",
    "\n",
    "# Set an arbitrary broadening width\n",
    "sigma = 0.25\n",
    "\n",
    "def gaussian(x, mu, sigma):\n",
    "    \"\"\"Calculate the probability distribution function (PDF) for a Gaussian for a given set of x-points\n",
    "\n",
    "    Args:\n",
    "        x (np.array[float]): The set of x-points to get the PDF for\n",
    "        mu (float): The mean value of the distribution (center point)\n",
    "        sigma (float): The standard devation of the distribution (width)\n",
    "\n",
    "    Returns:\n",
    "        np.array[float]: The values of the PDF for the specified gaussian\n",
    "    \"\"\"\n",
    "    norm_fact = 1.0 / (np.sqrt(2 * np.pi) * sigma)\n",
    "    return norm_fact * np.exp(-0.5 * ((x - mu) / sigma) ** 2.0)\n",
    "\n",
    "# Get the wavelength and energy ranges in (nm and eV)\n",
    "wavelengths = np.arange(150, 400, 0.01)\n",
    "energy = h * c / (wavelengths * 1e-9)\n",
    "\n",
    "# Initialize absorption spectra\n",
    "abs = np.zeros(energy.shape)\n",
    "for trans in transitions:\n",
    "    abs += trans[2] * gaussian(energy, trans[0], sigma)\n",
    "\n",
    "plt.plot(wavelengths, abs)\n",
    "plt.xlabel(\"Wavelength (nm)\")\n",
    "plt.ylabel(\"Absorption (A. U.)\")\n",
    "plt.show()"
   ]
  },
  {
   "cell_type": "markdown",
   "id": "f85dc6e0-8fc9-4286-93ac-652e744de4a9",
   "metadata": {},
   "source": [
    "We can now even see the how these peaks are composed of different excited state transitions, by adding the stick spectra ontop of it using the stem funciton in matplotlib"
   ]
  },
  {
   "cell_type": "code",
   "execution_count": null,
   "id": "c075118e-60df-4215-b5cd-209f28a7b698",
   "metadata": {},
   "outputs": [],
   "source": [
    "plt.plot(wavelengths, abs)\n",
    "\n",
    "ex_lambda = [trans[1] for trans in transitions]\n",
    "ex_abs = [trans[2] for trans in transitions]\n",
    "\n",
    "# Complicated matplotlib formatting things we don't need to worry about\n",
    "(markerline, stemlines, baseline) = plt.stem(ex_lambda, ex_abs, markerfmt=\"\", basefmt=\"\")\n",
    "plt.setp(baseline, visible=False)\n",
    "\n",
    "plt.xlabel(\"Wavelength (nm)\")\n",
    "plt.ylabel(\"Absorption (A. U.)\")\n",
    "plt.show()"
   ]
  },
  {
   "cell_type": "code",
   "execution_count": null,
   "id": "f74ecb26-2b79-40b3-80e1-ab8d55bda728",
   "metadata": {},
   "outputs": [],
   "source": []
  }
 ],
 "metadata": {
  "kernelspec": {
   "display_name": "Python 3 (ipykernel)",
   "language": "python",
   "name": "python3"
  },
  "language_info": {
   "codemirror_mode": {
    "name": "ipython",
    "version": 3
   },
   "file_extension": ".py",
   "mimetype": "text/x-python",
   "name": "python",
   "nbconvert_exporter": "python",
   "pygments_lexer": "ipython3",
   "version": "3.11.8"
  }
 },
 "nbformat": 4,
 "nbformat_minor": 5
}
