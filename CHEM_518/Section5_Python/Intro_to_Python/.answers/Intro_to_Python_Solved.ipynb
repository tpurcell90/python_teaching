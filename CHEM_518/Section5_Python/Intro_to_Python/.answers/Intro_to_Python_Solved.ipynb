{
 "cells": [
  {
   "cell_type": "markdown",
   "id": "0ad53f5c-b05b-4185-8e7e-c92c9d69b55b",
   "metadata": {},
   "source": [
    "Adapted from a notebook from Dr. Micheal Marty's Analytical Chemistry class\n",
    "\n",
    "Welcome to Python!\n",
    "\n",
    "Python is a very powerful yet easy to use programming language that has become one of the most commonly used languages, especially in science. There are a variety of ways to use Python. You can run Python in a command line structure and type out commands. You can also write scripts and then run the whole script at once.\n",
    "\n",
    "Here we are going to use a Python notebook run in the cloud. This is sometimes called iPython or Jupyter.\n",
    "\n",
    "Some cells, like this, are text only (in a format called Markdown). I'll use these to type out things to know.\n",
    "\n",
    "Other cells are executable blocks of code. You can run them in different orders and rerun bits of code, but the results of the output will liven in the memory, as you will see later.\n",
    "\n",
    "First, replace the ... in the print command below with your name, and hit Shift + Enter.\n",
    "\n",
    "One important note: this needs to be Python 3. If you see Python 2 in the upper right corner, switch it using Kernel > Change Kernel.\n",
    "\n",
    "This tutorial is meant to be run in order, if things are skipped around variables might change and break things. The number to the left of the cell represents the order in which things are called. The cell where a variable is set last by that order is the cell that value will be until reset by another call.\n",
    "\n",
    "Let's run our first line of python! Hit Shift + Enter or Ctrl + Enter"
   ]
  },
  {
   "cell_type": "code",
   "execution_count": null,
   "id": "40ddef64-e9ed-40fd-83ef-191ba228a61c",
   "metadata": {},
   "outputs": [],
   "source": [
    "print(\"Hello World! This is how I print things out in the code!\")"
   ]
  },
  {
   "cell_type": "markdown",
   "id": "038d56a5-5813-4390-a252-6bb53a0af5cf",
   "metadata": {},
   "source": [
    "Let's start learning how to program. This block of code shows you how to define variables. Once you store these, you can recall them later.\n",
    "\n",
    "Run this block of code by clicking run or Shift + Enter or Ctrl + Enter."
   ]
  },
  {
   "cell_type": "code",
   "execution_count": null,
   "id": "c2e8fb51-d854-4a61-9b87-189f561089bf",
   "metadata": {},
   "outputs": [],
   "source": [
    "school = \"University of Arizona\"\n",
    "name = \"Tom Purcell\""
   ]
  },
  {
   "cell_type": "markdown",
   "id": "62fa0c58-1650-4ef6-8523-d56a1b928cd3",
   "metadata": {},
   "source": [
    "Now lets print out these variables out in a message"
   ]
  },
  {
   "cell_type": "code",
   "execution_count": null,
   "id": "c8e0d3b8-5385-45c9-8d53-42bc88521437",
   "metadata": {},
   "outputs": [],
   "source": [
    "print(name, \"currently works at\", school)"
   ]
  },
  {
   "cell_type": "markdown",
   "id": "ca1294d1-68da-46c5-bef8-4679a7f01d1d",
   "metadata": {},
   "source": [
    "We can also use functions coded into the string objects to manipulate them"
   ]
  },
  {
   "cell_type": "code",
   "execution_count": null,
   "id": "e55a72e3-68fc-4f64-b972-15c4c736370b",
   "metadata": {},
   "outputs": [],
   "source": [
    "lower_name = name.lower()\n",
    "print(lower_name, \"currently works at\", school)\n",
    "print(name, \"currently works at\", school.upper())"
   ]
  },
  {
   "cell_type": "markdown",
   "id": "eb94405e-5bea-4fe1-bcd0-0fc07ae37fc4",
   "metadata": {},
   "source": [
    "While this is will work, it is not the easiest code to read. Let's introduce the f-string concept to make this easier to understand"
   ]
  },
  {
   "cell_type": "code",
   "execution_count": null,
   "id": "84657ac1-aeb9-4eec-aa19-83e0fb8b0a4f",
   "metadata": {},
   "outputs": [],
   "source": [
    "print(f\"{name} currently works at {school}\")"
   ]
  },
  {
   "cell_type": "markdown",
   "id": "70dce254-01c7-4563-b1fe-f9f31c1704d0",
   "metadata": {},
   "source": [
    "The advantage of f-strings is that it can easily include non-string components inside the string"
   ]
  },
  {
   "cell_type": "code",
   "execution_count": null,
   "id": "e15cccbc-2efd-47ee-bab7-e0fc424f5846",
   "metadata": {},
   "outputs": [],
   "source": [
    "n_months = 3\n",
    "print(f\"{name} currently works at {school}. He has been there for {n_months} months.\")"
   ]
  },
  {
   "cell_type": "markdown",
   "id": "528f997f-2418-49b5-ae63-74fba0899f25",
   "metadata": {},
   "source": [
    "And this allows for easy formatting using the codes found here: https://docs.python.org/3/library/string.html#format-specification-mini-language"
   ]
  },
  {
   "cell_type": "code",
   "execution_count": null,
   "id": "22c08dde-a40f-4806-9ed1-678fc87be1f0",
   "metadata": {},
   "outputs": [],
   "source": [
    "print(f\"{name} currently works at {school}. He has been there for {n_months:03d} months.\")\n",
    "print(f\"{name} currently works at {school}. He has been there for {n_months:+03d} months.\")\n",
    "print(f\"{name} currently works at {school}. He has been there for {n_months:>3} months.\")\n",
    "print(f\"{name} currently works at {school}. He has been there for {n_months:^3} months.\")\n",
    "print(f\"{name} currently works at {school}. He has been there for {n_months:<3} months.\")\n",
    "print(f\"{name} currently works at {school}. He has been there for {n_months:f} months.\")\n",
    "print(f\"{name} currently works at {school}. He has been there for {n_months:.2f} months.\")"
   ]
  },
  {
   "cell_type": "markdown",
   "id": "1f4be162-9e79-49bd-b499-39b6d56cec77",
   "metadata": {},
   "source": [
    "**Problem 1**\n",
    "\n",
    "Replace name, school and months with the correct values for yourself and print the above statements such that the nubmer of months is printed as a 5 digit number keeping precedeing zeroes\n",
    "\n",
    "Note: anything after a # is a comment and will not be interpeted as code"
   ]
  },
  {
   "cell_type": "code",
   "execution_count": null,
   "id": "99ba8913-a294-4871-ba3b-2137d2195a29",
   "metadata": {},
   "outputs": [],
   "source": [
    "# Your code goes here\n",
    "name = \"Student A\"\n",
    "school = \"Univesrity of Arizona\"\n",
    "months = 4\n",
    "print(f\"{name} is currently enrolled at {school}. He has been there for {months:05d}.\")"
   ]
  },
  {
   "cell_type": "markdown",
   "id": "67a39bea-2349-4180-9747-8bd139a20e3c",
   "metadata": {},
   "source": [
    "While string manipulation is important for describing information, chemistry problems normally are numeric in nature, so lets now do some Math!"
   ]
  },
  {
   "cell_type": "code",
   "execution_count": null,
   "id": "c762340b-0653-493e-bcd3-f32a8e77fc50",
   "metadata": {},
   "outputs": [],
   "source": [
    "a = 1\n",
    "b = 2\n",
    "c = a + b\n",
    "print(f\"c = {c}\")"
   ]
  },
  {
   "cell_type": "markdown",
   "id": "e0067792-7acb-4f2d-8e8e-263d794d5c77",
   "metadata": {},
   "source": [
    "**Problem 2**\n",
    "\n",
    "Define a new variable d that is the product of c and b"
   ]
  },
  {
   "cell_type": "code",
   "execution_count": null,
   "id": "72d27547-988e-4ea5-9216-5f0a9cbf68cc",
   "metadata": {},
   "outputs": [],
   "source": [
    "# Your code goes here\n",
    "d = c * b"
   ]
  },
  {
   "cell_type": "markdown",
   "id": "a81c0292-8e94-4cfb-9126-f18963d86d43",
   "metadata": {},
   "source": [
    "What happens with division? What is a / b?"
   ]
  },
  {
   "cell_type": "code",
   "execution_count": null,
   "id": "89823561-407a-4fe7-991a-7da950fd693b",
   "metadata": {},
   "outputs": [],
   "source": [
    "a / b"
   ]
  },
  {
   "cell_type": "markdown",
   "id": "523c5e6a-1e9d-41c2-a7bb-f5dd700ae05f",
   "metadata": {},
   "source": [
    "Here python auto converts the integers into a float when doing division, not all coding languages will do this. If we want to see what happens in these languages use the // operator"
   ]
  },
  {
   "cell_type": "code",
   "execution_count": null,
   "id": "e6cb714d-bea4-4c19-87b6-87e5947ce2df",
   "metadata": {},
   "outputs": [],
   "source": [
    "a // b"
   ]
  },
  {
   "cell_type": "markdown",
   "id": "4fd07c30-287f-4c73-9b98-7d1ad3539e12",
   "metadata": {},
   "source": [
    "The // operator is integer division. This will do the division problem and delete anything after the decimal point. To keep a remainder use the modulus operator %"
   ]
  },
  {
   "cell_type": "code",
   "execution_count": null,
   "id": "d6d7bc5f-d689-4cae-af5a-37df13db3ea3",
   "metadata": {},
   "outputs": [],
   "source": [
    "print(a % b)\n",
    "print(19 % 7)"
   ]
  },
  {
   "cell_type": "markdown",
   "id": "22b8e8fb-5819-4bd5-8347-324167326526",
   "metadata": {},
   "source": [
    "We can use this to parse longer integers into sub groupings like what Gaussian does for the range seperation values\n",
    "\n",
    "Notice how inside the f-strings we can also include expressions not just variables"
   ]
  },
  {
   "cell_type": "code",
   "execution_count": null,
   "id": "fbe9be32-9079-4955-9d3d-e6ce380f7898",
   "metadata": {},
   "outputs": [],
   "source": [
    "# Reject the leading zero python won't accept it\n",
    "omega = 110002200\n",
    "\n",
    "int_lr = omega // 100000\n",
    "int_sr = omega % 10000\n",
    "\n",
    "print(f\"lr: {int_lr / 10000:.5f}; sr: {int_sr / 10000:.5f}\")"
   ]
  },
  {
   "cell_type": "markdown",
   "id": "02a21bef-61bf-425e-a09f-29d3a7294ed6",
   "metadata": {},
   "source": [
    "**Problem 3**\n",
    "\n",
    "What are the division, integer division, and modulus of c over d and d over c"
   ]
  },
  {
   "cell_type": "code",
   "execution_count": null,
   "id": "d6c2a748-0067-424b-833c-b8b1aae9550a",
   "metadata": {},
   "outputs": [],
   "source": [
    "# Your code goes here\n",
    "print(c / d)\n",
    "print(c // d)\n",
    "print(c % d)\n",
    "\n",
    "print(d / c)\n",
    "print(d // c)\n",
    "print(d % c)"
   ]
  },
  {
   "cell_type": "markdown",
   "id": "906af2e8-0b15-42cd-9fa2-c2c527727ce9",
   "metadata": {},
   "source": [
    "Doing single operations is good in python, but that is something that can be done in excel or a calculator. The power of python is it's ability to act on a collections of data. \n",
    "\n",
    "The main python collection of data is the list, but this is not as useful for scientific processing because it does not keep track of what type the data is and allow us to easily use mathematical operations on that collection. However the array class from the numpy library solves this issue for us\n",
    "\n",
    "To use this library though we need to import it"
   ]
  },
  {
   "cell_type": "code",
   "execution_count": null,
   "id": "27b8a620-a151-4046-894b-45b8c95b076c",
   "metadata": {},
   "outputs": [],
   "source": [
    "import numpy as np\n",
    "\n",
    "x = np.array([0, 1, 2, 3, 4])\n",
    "y = x ** 2\n",
    "print(y)"
   ]
  },
  {
   "cell_type": "markdown",
   "id": "a09e7f11-46ee-48e9-ac7b-b16cef564130",
   "metadata": {},
   "source": [
    "What happens if  we accidently made one of the entires in x a string though?"
   ]
  },
  {
   "cell_type": "code",
   "execution_count": null,
   "id": "8a57d283-b61d-41d6-a830-f329b9c2097b",
   "metadata": {},
   "outputs": [],
   "source": [
    "x = np.array([0, 1, \"2\", 3, 4])\n",
    "y = x ** 2\n",
    "print(y)"
   ]
  },
  {
   "cell_type": "markdown",
   "id": "49ab0133-fe9c-455a-95cd-4a340d090358",
   "metadata": {},
   "source": [
    "This raises an error (fails for a specified reasion) because x was automatically cast as (converted into) a string and not a numeric value because the list contains strings and ints and any int can be converted into a string, but not all strings can be converted into ints"
   ]
  },
  {
   "cell_type": "code",
   "execution_count": null,
   "id": "c0602325-7957-4389-bfc5-29efbb9f5da5",
   "metadata": {},
   "outputs": [],
   "source": [
    "print(x)"
   ]
  },
  {
   "cell_type": "code",
   "execution_count": null,
   "id": "06b1f9ac-92c3-43c8-ae20-68332866062c",
   "metadata": {},
   "outputs": [],
   "source": [
    "x = np.array([0, 1, 2, 3, 4])\n",
    "y = x ** 2.0\n",
    "print(y)"
   ]
  },
  {
   "cell_type": "markdown",
   "id": "d5b8f0b8-4f46-4723-a122-597cbbb4a241",
   "metadata": {},
   "source": [
    "Here we see that by raising x to the 2.0 power instead of 2 all of our data points became floating point numbers signified by the \".\" at the end of them. In python if any valid operation contains a float then all values resulting from that operation will also become a float.\n",
    "\n",
    "To convert this back to ints use `astype` member function"
   ]
  },
  {
   "cell_type": "code",
   "execution_count": null,
   "id": "34e5d985-e423-49a7-86b0-985abce4b35a",
   "metadata": {},
   "outputs": [],
   "source": [
    "y = y.astype(int)\n",
    "print(y)"
   ]
  },
  {
   "cell_type": "markdown",
   "id": "dd8b20d2-cc3b-4457-8216-da4914a81594",
   "metadata": {},
   "source": [
    "Note that if we convert to integers on non-int floats then we simply remove the decimal point and not round up or down"
   ]
  },
  {
   "cell_type": "code",
   "execution_count": null,
   "id": "76f6cf82-b485-46d9-8736-493d58ca4d0a",
   "metadata": {},
   "outputs": [],
   "source": [
    "y = x ** 0.5\n",
    "print(y)\n",
    "print(y.astype(int))"
   ]
  },
  {
   "cell_type": "markdown",
   "id": "f6b0e788-053a-4394-abba-0589820e6d11",
   "metadata": {},
   "source": [
    "We can now plot the data using matplotlib with some easy plots"
   ]
  },
  {
   "cell_type": "code",
   "execution_count": null,
   "id": "ef813da8-141a-494d-befd-a8d3ad5780bf",
   "metadata": {},
   "outputs": [],
   "source": [
    "import matplotlib.pyplot as plt\n",
    "\n",
    "plt.plot(x, y)\n",
    "plt.show()"
   ]
  },
  {
   "cell_type": "markdown",
   "id": "5a2316a7-4345-48e1-891e-d989cd44e818",
   "metadata": {},
   "source": [
    "**Problem 4**\n",
    "\n",
    "plot the curve y = x ** 2 for the values of x = -10 to 10 with interval of 1"
   ]
  },
  {
   "cell_type": "code",
   "execution_count": null,
   "id": "f3e94eb6-ebfb-4d2e-a69c-e0cebfae13ba",
   "metadata": {},
   "outputs": [],
   "source": [
    "# Your code here\n",
    "x4 = np.array([-10, -9, -8, -7, -6, -5, -4, -3, -2, -1, 0, 1, 2, 3, 4, 5, 6, 7, 8, 9, 10])\n",
    "y4 = x4 ** 2\n",
    "\n",
    "plt.plot(x4, y4)\n",
    "plt.show()"
   ]
  },
  {
   "cell_type": "markdown",
   "id": "0e277806-d1f5-4330-88b3-1c7e4b7d0f42",
   "metadata": {},
   "source": [
    "While specifying things from lists can give the programmer a greater amount of control over what is inside the array, it becomes tedious very fast (imagine if in the last problem the interval was 0.001 instead of 1). Luckily numpy has a solution for that"
   ]
  },
  {
   "cell_type": "code",
   "execution_count": null,
   "id": "0c9d8e15-170f-4d91-912a-2971873ed551",
   "metadata": {},
   "outputs": [],
   "source": [
    "min = 0\n",
    "max = 4\n",
    "interval = 0.001\n",
    "x_fine = np.arange(min, max + interval / 2.0, interval)\n",
    "print(x_fine)"
   ]
  },
  {
   "cell_type": "markdown",
   "id": "d6b6852c-4e66-47db-b64a-84d84d7dd6ba",
   "metadata": {},
   "source": [
    "The arange function will return an array of all numbers in the range [min, max) with an interval specified by interval. Here the notation means the min will be included in the list while the max will not be. We can now get more finte detail over the plot in the square root plot from above"
   ]
  },
  {
   "cell_type": "code",
   "execution_count": null,
   "id": "9d0a9370-cb7e-41f8-8073-8e61b7fff089",
   "metadata": {},
   "outputs": [],
   "source": [
    "plt.plot(x_fine, x_fine ** 0.5)\n",
    "plt.plot(x, y, 'o')\n",
    "plt.show()"
   ]
  },
  {
   "cell_type": "markdown",
   "id": "6cec15b2-a37c-4a35-9962-b606a6e77cd7",
   "metadata": {},
   "source": [
    "Here I plotted the coarse data with 'o' markers. This is the power/issue of matplotlib it can give quick and simple plots easily, but publication quality figures can be much harder to generate. Here is an example of what I would do to make this publicaiton quality (Not expecting you to do this right away)"
   ]
  },
  {
   "cell_type": "code",
   "execution_count": null,
   "id": "bd5ad0a6-b2b3-441f-ae2e-7739fd9f9e5a",
   "metadata": {},
   "outputs": [],
   "source": [
    "# Make a new figure with the size of 3.5 inches and a height of 2.5 inches\n",
    "fig = plt.figure(figsize=[3.5,2.5])\n",
    "\n",
    "# Add an axes to the figure starting at 0.1 * 3.5, 0.1 * 2.5, 0.95 *  3.5, 0.95 * 2.5 inches\n",
    "# for the bot, left, top, right edges\n",
    "ax = fig.add_axes(rect=[0.1, 0.1, 0.95, 0.95])\n",
    "\n",
    "# Make the ticks go inside the figure\n",
    "ax.tick_params(which=\"both\", direction=\"in\", left=True, right=True, bottom=True, top=True)\n",
    "\n",
    "# Add x-axis label\n",
    "ax.set_xlabel(\"x (unit)\")\n",
    "\n",
    "# Set x-axis limits\n",
    "ax.set_xlim([-0.1, 4.1])\n",
    "\n",
    "# Set x-axis major ticks\n",
    "ax.set_xticks(np.arange(0, 4.1, 1.0))\n",
    "\n",
    "# Set x-aaxis minor ticks\n",
    "ax.set_xticks(np.arange(0, 4.1, 0.1), minor=True)\n",
    "\n",
    "# Do the same for the y-axis\n",
    "# Matplotlib understands LaTeX\n",
    "ax.set_ylabel(\"$\\\\sqrt{x}$ (unit$^{0.5}$)\")\n",
    "ax.set_ylim([-0.05, 2.05])\n",
    "ax.set_yticks(np.arange(0, 2.1, 0.5))\n",
    "ax.set_yticks(np.arange(0, 2.1, 0.1), minor=True)\n",
    "\n",
    "# Easy to use color set generator: https://coolors.co/\n",
    "# c sets color with hex code, and label sets legend lables\n",
    "ax.plot(x_fine, x_fine ** 0.5, c=\"#1A5D89\", label=\"fine\")\n",
    "ax.plot(x, y, 'o', c=\"#EB5160\", label=\"coarse\")\n",
    "\n",
    "# Add the legend\n",
    "ax.legend(frameon=False)\n",
    "\n",
    "fig.show()"
   ]
  },
  {
   "cell_type": "markdown",
   "id": "95ea6341-e8d2-4942-b579-8d052509e5ec",
   "metadata": {},
   "source": [
    "Writing functions can make life easier for doing repetitive tasks over and over agin.\n",
    "\n",
    "A function is defined by the key word **def** followed by a function name and a list on input types in parenthesis. To get an output from the fuction we use a **return** statement.\n",
    "\n",
    "Notice the format here a **:** after the function call and the indented block for the function text. What ends the function is not the return statement but the breaking of the indentation block. *IMPORTANT: four spaces and one tab are NOT THE SAME THING! This will cause indentation errors as we will see in the a later cell*\n",
    "\n",
    "Let's make a function that adds two numbers together"
   ]
  },
  {
   "cell_type": "code",
   "execution_count": null,
   "id": "717da2f2-d0eb-421f-a783-489968492fb5",
   "metadata": {},
   "outputs": [],
   "source": [
    "def add(a, b):\n",
    "    return a + b\n",
    "\n",
    "c = add(4, 5)\n",
    "print(c)"
   ]
  },
  {
   "cell_type": "markdown",
   "id": "c8c9f7f1-1985-4bcc-87ff-41ef2a188d5b",
   "metadata": {},
   "source": [
    "We can also define the function with an internal variable `c` that we return, but this is not reccommended as it adds unecessary lines of code and allocations of memory"
   ]
  },
  {
   "cell_type": "code",
   "execution_count": null,
   "id": "5c4a937d-ce7b-44e3-ac6e-4aa1fcab2250",
   "metadata": {},
   "outputs": [],
   "source": [
    "# This is fine as we are only using spaces\n",
    "c = 0\n",
    "def add(a, b):\n",
    "    c = a + b\n",
    "    return c\n",
    "\n",
    "d = add(4, 5)\n",
    "print(c, d)"
   ]
  },
  {
   "cell_type": "markdown",
   "id": "a1823853-e283-4df2-9ffa-0deacfe5c815",
   "metadata": {},
   "source": [
    "If done this way CHECK INDENTATION!"
   ]
  },
  {
   "cell_type": "code",
   "execution_count": null,
   "id": "12a73a95-9f21-4107-b657-ff50012891ca",
   "metadata": {},
   "outputs": [],
   "source": [
    "# This fails due to mixed indentation\n",
    "def add(a, b):\n",
    "\tc = a + b\n",
    "    return c\n",
    "\n",
    "c = add(4, 5)\n",
    "print(c)"
   ]
  },
  {
   "cell_type": "markdown",
   "id": "c97cb70e-1ca8-4baa-a0bc-24bd68436c04",
   "metadata": {},
   "source": [
    "When we have two functions with the same name the later one will overwrite the earlier one (unless defined as part of a class).\n",
    "\n",
    "This also applies to variables as we see with c"
   ]
  },
  {
   "cell_type": "code",
   "execution_count": null,
   "id": "8c583576-0dd1-48ff-8dac-2421def474ec",
   "metadata": {},
   "outputs": [],
   "source": [
    "def add(a, b):\n",
    "    return a + b\n",
    "\n",
    "c = add(4, 5)\n",
    "print(c) \n",
    "\n",
    "def add(a, b):\n",
    "    return a + b + 1\n",
    "\n",
    "c = add(4, 5)\n",
    "print(c)"
   ]
  },
  {
   "cell_type": "markdown",
   "id": "8a82bcf9-82f3-49e0-a6ce-45b8482146b4",
   "metadata": {},
   "source": [
    "While the addtion function is easy to read on it's own, it is always good to give docstrings for each function. A docstring is a simple description of what the code does and is maked by `'''text'''` or `\"\"\"text\"\"\"` as shown below. The reason why we do this is that if we don't know what a function does while in python we can access the docstrig using the `help` function. The more details you add the more details you get from `help`\n",
    "\n",
    "For a style guide for docstrings look at the examples here: https://stackabuse.com/common-docstring-formats-in-python/\n",
    "\n",
    "I am using the google docstring format below "
   ]
  },
  {
   "cell_type": "code",
   "execution_count": null,
   "id": "7310ae13-559c-450b-bf3a-7076cfd34210",
   "metadata": {},
   "outputs": [],
   "source": [
    "def add(a, b):\n",
    "    \"\"\"Adds two numbers a and b together\"\"\"\n",
    "    return a + b\n",
    "\n",
    "help(add)\n",
    "\n",
    "print(\"\\nMore in depth docstring\\n\")\n",
    "def add(a, b):\n",
    "    \"\"\"Adds to numbers a and b together\n",
    "\n",
    "    Args:\n",
    "        a (float): First number to add\n",
    "        b (float): Second number to add\n",
    "\n",
    "    Returns:\n",
    "        float: The sum of the two numbers\n",
    "    \"\"\"\n",
    "    return a + b\n",
    "\n",
    "help(add)"
   ]
  },
  {
   "cell_type": "markdown",
   "id": "341aac3c-3d72-4539-ae6e-70537320cff4",
   "metadata": {},
   "source": [
    "**Problem 5**\n",
    "\n",
    "Write a function with a docstring to calculate the square of a list of numbers starting from a value `min` ending at a value `max` with an increment `inc`. And test the results.\n"
   ]
  },
  {
   "cell_type": "code",
   "execution_count": null,
   "id": "ca1009b5-6893-4539-8dca-71de490fa95c",
   "metadata": {},
   "outputs": [],
   "source": [
    "# You're code here\n",
    "def get_sq_arr(min_val, max_val, inc):\n",
    "    \"\"\"Calculates the square of all numbers from min to max, in an increment inc\n",
    "\n",
    "    Args:\n",
    "        min (float): The min value of the array to take a sqaure of\n",
    "        max (float): The max value of the array to take the square of\n",
    "        inc (float): Increment between the numbers\n",
    "\n",
    "    Returns:\n",
    "        np.array[float]: The square of all numbers\n",
    "    \"\"\"\n",
    "    return np.arange(min_val, max_val + inc, inc) ** 2.0\n",
    "\n",
    "print(get_sq_arr(-1, 1, 0.5))\n"
   ]
  },
  {
   "cell_type": "markdown",
   "id": "13c84bc6-ff1b-4d7b-9936-6582167a857f",
   "metadata": {},
   "source": [
    "The above function works well, but if we are to look for a square root this function will lead to a `nan` value (not a number)\n",
    "\n",
    "This is a result that can happen whenever something that is invalid mathematically is attempted."
   ]
  },
  {
   "cell_type": "code",
   "execution_count": null,
   "id": "97870e3e-7b3c-4136-9932-fcbc42991af7",
   "metadata": {},
   "outputs": [],
   "source": [
    "# You're code here\n",
    "def get_sqrt_arr(min_val, max_val, inc):\n",
    "    \"\"\"Calculates the square root of all numbers from min to max, in an increment inc\n",
    "\n",
    "    Args:\n",
    "        min (float): The min value of the array to take a sqaure of\n",
    "        max (float): The max value of the array to take the square of\n",
    "        inc (float): Increment between the numbers\n",
    "\n",
    "    Returns:\n",
    "        np.array[float]: The square root of all numbers\n",
    "    \"\"\"\n",
    "    return np.arange(min_val, max_val + inc / 2, inc) ** 0.5\n",
    "\n",
    "print(get_sqrt_arr(-1, 1, 0.5))"
   ]
  },
  {
   "cell_type": "markdown",
   "id": "a4f29e81-5bb4-4ec7-b793-7995d0942702",
   "metadata": {},
   "source": [
    "We can prevent this from happening by using a condtional statement inside the function and raising an error when a negative number is passed to min or max.\n",
    "\n",
    "*Raising an error*\n",
    "\n",
    "Raising an error (formally exception) early is a way of cleanly exiting a code if something wrong without spending more computational time to calculate an invalid result. It works by using the `raise` keyword and requires sometype of error type (https://docs.python.org/3/library/exceptions.html). Normally a `ValueError` will work.\n",
    "\n",
    "*Conditional Statements*\n",
    "\n",
    "A condtional is also known as an if-then or if-else statement that specfies if condition X is True, then do A.\n",
    "\n",
    "We can chain multiple conditions together using the elif (else if) keyword, elif Y is True, then do B\n",
    "\n",
    "Finally we can set a default condtion using else, if no other condition is true, then do C"
   ]
  },
  {
   "cell_type": "code",
   "execution_count": null,
   "id": "7a067e99-b228-40ec-8777-76f34515716c",
   "metadata": {},
   "outputs": [],
   "source": [
    "def get_sqrt_arr(min, max, inc):\n",
    "    \"\"\"Calculates the square root of all numbers from min to max, in an increment inc\n",
    "\n",
    "    Args:\n",
    "        min (float): The min value of the array to take a sqaure of\n",
    "        max (float): The max value of the array to take the square of\n",
    "        inc (float): Increment between the numbers\n",
    "\n",
    "    Returns:\n",
    "        np.array[float]: The square root of all numbers\n",
    "    \"\"\"\n",
    "    if min < 0:\n",
    "        raise ValueError(\"min value is < 0\")\n",
    "    elif max < min:\n",
    "        raise ValueError(\"The max value is less than the min value.\")\n",
    "    else:\n",
    "        return np.arange(min, max + inc, inc) ** 0.5"
   ]
  },
  {
   "cell_type": "markdown",
   "id": "85d62b1e-50fc-4498-8848-ac3be6901c39",
   "metadata": {},
   "source": [
    "We can now test the function to see what happens in different cases"
   ]
  },
  {
   "cell_type": "code",
   "execution_count": null,
   "id": "1590b2bd-bae8-462c-b6f6-982a796b309e",
   "metadata": {},
   "outputs": [],
   "source": [
    "get_sqrt_arr(-1, 1, 1)"
   ]
  },
  {
   "cell_type": "code",
   "execution_count": null,
   "id": "a19c9db3-5404-4ab8-b38e-70e31b4248c1",
   "metadata": {},
   "outputs": [],
   "source": [
    "get_sqrt_arr(0, -1, 1)"
   ]
  },
  {
   "cell_type": "code",
   "execution_count": null,
   "id": "1b7f7df5-997c-4b40-96ef-c551802ee687",
   "metadata": {},
   "outputs": [],
   "source": [
    "get_sqrt_arr(-1, -2, 1)"
   ]
  },
  {
   "cell_type": "code",
   "execution_count": null,
   "id": "30a44d85-3ee0-41c4-8d08-730d8a1b541f",
   "metadata": {},
   "outputs": [],
   "source": [
    "get_sqrt_arr(0, 1, 0.5)"
   ]
  },
  {
   "cell_type": "markdown",
   "id": "98bb6749-41aa-46c5-b901-36beff3b2239",
   "metadata": {},
   "source": [
    "We can see from the above examples that each condtion is checked sequentially and if one condition is True then none of the other conditions will be tested and the function will terminate at the raise or return line. \n",
    "\n",
    "We can also condense the function down into a single if statement by using the `or` keyword. As a note one n also use `and` and `not` keywords\n",
    "\n",
    "Here the final else statement is not needed because the function will exit if the condition is met."
   ]
  },
  {
   "cell_type": "code",
   "execution_count": null,
   "id": "79305043-bedf-4f83-9562-a6df70fdc50a",
   "metadata": {},
   "outputs": [],
   "source": [
    "def get_sqrt_arr(min, max, inc):\n",
    "    \"\"\"Calculates the square root of all numbers from min to max, in an increment inc\n",
    "\n",
    "    Args:\n",
    "        min (float): The min value of the array to take a sqaure of\n",
    "        max (float): The max value of the array to take the square of\n",
    "        inc (float): Increment between the numbers\n",
    "\n",
    "    Returns:\n",
    "        np.array[float]: The square root of all numbers\n",
    "    \"\"\"\n",
    "    if min < 0 or max < min:\n",
    "        raise ValueError(\"Invalid input variable\")\n",
    "    \n",
    "    return np.arange(min, max + inc, inc) ** 0.5"
   ]
  },
  {
   "cell_type": "code",
   "execution_count": null,
   "id": "f54b2fde-0333-4f2b-aca3-079479d7c542",
   "metadata": {},
   "outputs": [],
   "source": [
    "get_sqrt_arr(-1, 1, 1)"
   ]
  },
  {
   "cell_type": "code",
   "execution_count": null,
   "id": "373031d8-7d2f-448e-abe4-e52429d1abcb",
   "metadata": {},
   "outputs": [],
   "source": [
    "get_sqrt_arr(0, -1, 1)"
   ]
  },
  {
   "cell_type": "code",
   "execution_count": null,
   "id": "fd130f26-8224-4ac7-ab4a-abc247b7f0c7",
   "metadata": {},
   "outputs": [],
   "source": [
    "get_sqrt_arr(0, 1, 0.5)"
   ]
  },
  {
   "cell_type": "markdown",
   "id": "418bef93-c1a7-4e7d-9bbb-31a2cc1611ab",
   "metadata": {},
   "source": [
    "Note here we do not need an else statement at the end of the the updated function because it already exits it at the raise statement"
   ]
  },
  {
   "cell_type": "markdown",
   "id": "6423cba5-eeaf-42c1-af95-e06c0fbfe742",
   "metadata": {},
   "source": [
    "While these small functions are good learning tools, they aren't particularly useful coding wise since functions for basic mathematical operators already exist. Let's build on these topics and create a function for a Gaussian function:\n",
    "\n",
    "$f\\left(x\\right)=\\frac{1}{\\sigma\\sqrt{2\\pi}}\\exp\\left(-\\frac{1}{2}\\left(\\frac{x-\\mu}{\\sigma}\\right)^2\\right)$\n",
    "\n",
    "Where $\\sigma$ is the width of the Gaussian and $\\mu$ is the center point.\n"
   ]
  },
  {
   "cell_type": "code",
   "execution_count": null,
   "id": "5cf75860-778b-4c94-be12-3f73fa5e486b",
   "metadata": {},
   "outputs": [],
   "source": [
    "def gaussian(x, mu, sigma):\n",
    "    \"\"\"Calculate the probability distribution function (PDF) for a Gaussian for a given set of x-points\n",
    "\n",
    "    Args:\n",
    "        x (np.array[float]): The set of x-points to get the PDF for\n",
    "        mu (float): The mean value of the distribution (center point)\n",
    "        sigma (float): The standard devation of the distribution (width)\n",
    "\n",
    "    Returns:\n",
    "        np.array[float]: The values of the PDF for the specified Gaussian\n",
    "    \"\"\"\n",
    "    norm_fact = 1.0 / (np.sqrt(2 * np.pi) * sigma)\n",
    "    return norm_fact * np.exp(-0.5 * ((x - mu) / sigma) ** 2.0)"
   ]
  },
  {
   "cell_type": "markdown",
   "id": "96b8bafe-a6f4-4dac-b9cc-6b3205ccfa2d",
   "metadata": {},
   "source": [
    "Now let's plot the results to make sure taht we did everything correctly"
   ]
  },
  {
   "cell_type": "code",
   "execution_count": null,
   "id": "c714f1ae-eee0-4369-b60f-40c5e3614b4e",
   "metadata": {},
   "outputs": [],
   "source": [
    "x = np.arange(-3, 3.01, 0.01)\n",
    "\n",
    "plt.plot(x, gaussian(x, 0.0, 1.0), label=1)\n",
    "plt.plot(x, gaussian(x, 0.0, 2.0), label=2)\n",
    "plt.plot(x, gaussian(x, 0.0, 0.5), label=0.5)\n",
    "plt.legend()\n",
    "plt.show()"
   ]
  },
  {
   "cell_type": "markdown",
   "id": "be223768-7fa8-4609-ac93-f94a7c75bb29",
   "metadata": {},
   "source": [
    "**Problem 6**\n",
    "\n",
    "The Lorentzian Distribution\n",
    "\n",
    "$f\\left(x\\right)=\\frac{1}{\\pi} \\frac{\\frac{1}{2} \\Gamma}{\\left(x-x_0\\right)^2 + \\left(\\frac{1}{2} \\Gamma\\right)^2}$\n",
    "\n",
    "1) Write a function of a Lorentzian function\n",
    "2) Plot two lorentzian's with a ($x_0 = 1.0$, $\\Gamma = 0.5$) and ($x_0 = -1.0$, $\\Gamma = 1.0$)\n",
    "3) What does $x_0$ reprsent and what does $\\Gamma$ represent?"
   ]
  },
  {
   "cell_type": "code",
   "execution_count": null,
   "id": "4f514e8c-5d6c-490a-a80f-aab5121683d9",
   "metadata": {},
   "outputs": [],
   "source": [
    "# Your code here\n",
    "def lorentzian(x, x0, Gamma):\n",
    "    \"\"\"Calculate the probability distribution function (PDF) for a Lorentzian for a given set of x-points\n",
    "\n",
    "    Args:\n",
    "        x (np.array[float]): The set of x-points to get the PDF for\n",
    "        x0 (float): The peak location\n",
    "        Gamma (float): The width of the peak\n",
    "\n",
    "    Returns:\n",
    "        np.array[float]: The values of the PDF for the specified Lorentzian\n",
    "    \"\"\"\n",
    "    norm_fact = 0.5 * Gamma / (np.pi)\n",
    "    return norm_fact / ((x - x0) ** 2.0 + 0.25*Gamma**2.0)\n",
    "\n",
    "x = np.arange(-3, 3.01, 0.01)\n",
    "\n",
    "plt.plot(x, lorentzian(x, -2.0, 1.0), label=\"($x_0 = -1.0$, $\\Gamma = 1.0$)\")\n",
    "plt.plot(x, lorentzian(x, 1.0, 0.5), label=\"($x_0 = 1.0$, $\\Gamma = 0.5$)\")\n",
    "plt.legend(frameon=False)\n",
    "plt.show()"
   ]
  },
  {
   "cell_type": "markdown",
   "id": "56fb6cf3-8f57-4eb3-b2fc-dae85188149f",
   "metadata": {},
   "source": [
    "One way we can see if we have implemented the functions correctly is to ensure that the distributions are properly normalized. We can do this with the scipy integrate package using both numerical and quadrature based integration\n",
    "\n",
    "To see how to use these functions look at: https://docs.scipy.org/doc/scipy/tutorial/integrate.html\n",
    "https://docs.scipy.org/doc/scipy/reference/generated/scipy.integrate.quad.html#scipy.integrate.quad\n",
    "https://docs.scipy.org/doc/scipy/reference/generated/scipy.integrate.simpson.html#scipy.integrate.simpson"
   ]
  },
  {
   "cell_type": "code",
   "execution_count": null,
   "id": "0c63baa0-e39f-4216-9db8-acc7fac3add2",
   "metadata": {},
   "outputs": [],
   "source": [
    "from scipy.integrate import quad\n",
    "\n",
    "I = quad(gaussian, -np.inf, np.inf, args=(0.0, 1.0))\n",
    "print(f\"{I[0]} ± {I[1]}\")\n",
    "\n",
    "I = quad(gaussian, -np.inf, np.inf, args=(0.0, 2.0))\n",
    "print(f\"{I[0]} ± {I[1]}\")\n",
    "\n",
    "I = quad(gaussian, -np.inf, np.inf, args=(0.0, 0.5))\n",
    "print(f\"{I[0]} ± {I[1]}\")"
   ]
  },
  {
   "cell_type": "markdown",
   "id": "da878166-1bda-4003-8562-afe1131409e2",
   "metadata": {},
   "source": [
    "Here we see some artifacts of numerics and floating point numbers, but all of these values are essentially 1.0, now lets try numerical integration"
   ]
  },
  {
   "cell_type": "code",
   "execution_count": null,
   "id": "1193e808-a158-4daa-8973-5fe95ae2a246",
   "metadata": {},
   "outputs": [],
   "source": [
    "from scipy.integrate import simpson\n",
    "\n",
    "x = np.arange(-3.0, 3.0, 0.01)\n",
    "I = simpson(y=gaussian(x, 0.0, 1.0), x=x)\n",
    "print(I)\n",
    "\n",
    "I = simpson(y=gaussian(x, 0.0, 2.0), x=x)\n",
    "print(I)\n",
    "\n",
    "I = simpson(y=gaussian(x, 0.0, 0.5), x=x)\n",
    "print(I)"
   ]
  },
  {
   "cell_type": "markdown",
   "id": "9ae3befa-4404-48eb-b357-c1f0d1bc42b4",
   "metadata": {},
   "source": [
    "Here we see numerical integration is slightly off due to not exetending the range far enough, as seen below"
   ]
  },
  {
   "cell_type": "code",
   "execution_count": null,
   "id": "84cfc2df-8d54-4997-9f66-08cc54ae82ad",
   "metadata": {},
   "outputs": [],
   "source": [
    "from scipy.integrate import simpson\n",
    "\n",
    "x = np.arange(-30.0, 30.0, 0.01)\n",
    "I = simpson(y=gaussian(x, 0.0, 1.0), x=x)\n",
    "print(I)\n",
    "\n",
    "I = simpson(y=gaussian(x, 0.0, 2.0), x=x)\n",
    "print(I)\n",
    "\n",
    "I = simpson(y=gaussian(x, 0.0, 0.5), x=x)\n",
    "print(I)"
   ]
  },
  {
   "cell_type": "markdown",
   "id": "9fc8dcbf-3186-4574-be73-ea6f9272e876",
   "metadata": {},
   "source": [
    "**Problem 7**\n",
    "\n",
    "Do the same integration for the two lorentzian functions from Problem 6."
   ]
  },
  {
   "cell_type": "code",
   "execution_count": null,
   "id": "f14021b6-bfbe-45e2-8f04-7e85e20e5ff9",
   "metadata": {},
   "outputs": [],
   "source": [
    "# Your code here\n",
    "I = quad(lorentzian, -np.inf, np.inf, args=(-2.0, 1.0))\n",
    "print(f\"{I[0]} ± {I[1]}\")\n",
    "\n",
    "I = quad(lorentzian, -np.inf, np.inf, args=(1.0, 0.5))\n",
    "print(f\"{I[0]} ± {I[1]}\")"
   ]
  }
 ],
 "metadata": {
  "kernelspec": {
   "display_name": "Python 3 (ipykernel)",
   "language": "python",
   "name": "python3"
  },
  "language_info": {
   "codemirror_mode": {
    "name": "ipython",
    "version": 3
   },
   "file_extension": ".py",
   "mimetype": "text/x-python",
   "name": "python",
   "nbconvert_exporter": "python",
   "pygments_lexer": "ipython3",
   "version": "3.11.8"
  }
 },
 "nbformat": 4,
 "nbformat_minor": 5
}
